{
 "cells": [
  {
   "cell_type": "markdown",
   "metadata": {},
   "source": [
    "## Use Detectron2 to calculate dynamic:static cars\n",
    "\n",
    "- load images and masks\n",
    "- run detectron2 on each image\n",
    "- get matrix for each car instance\n",
    "- compare matrix to mask by IoU\n",
    "- if IoU is above 0.7 its dynamic, otherwise static\n",
    "- add to dictionary"
   ]
  },
  {
   "cell_type": "code",
   "execution_count": 1,
   "metadata": {},
   "outputs": [],
   "source": [
    "%reload_ext autoreload\n",
    "%autoreload 2\n",
    "\n",
    "import detectron2\n",
    "from detectron2.utils.logger import setup_logger\n",
    "setup_logger()\n",
    "\n",
    "# import some common libraries\n",
    "import numpy as np\n",
    "import os, json, random\n",
    "import cv2\n",
    "import matplotlib.pyplot as plt\n",
    "\n",
    "# import some common detectron2 utilities\n",
    "from detectron2 import model_zoo\n",
    "from detectron2.engine import DefaultPredictor\n",
    "from detectron2.config import get_cfg\n",
    "from detectron2.utils.visualizer import Visualizer\n",
    "from detectron2.data import MetadataCatalog, DatasetCatalog\n",
    "\n",
    "# import dataset class and torch\n",
    "import torch\n",
    "from DatasetClassRatioComp import ExtendedKittiMod\n",
    "from torch.utils.data import DataLoader"
   ]
  },
  {
   "cell_type": "code",
   "execution_count": 6,
   "metadata": {},
   "outputs": [
    {
     "name": "stdout",
     "output_type": "stream",
     "text": [
      "dirs loaded:\n",
      "['2011_09_26_drive_0014_sync', '2011_09_26_drive_0015_sync', '2011_09_26_drive_0018_sync', '2011_09_26_drive_0032_sync', '2011_09_26_drive_0056_sync', '2011_09_26_drive_0057_sync', '2011_09_26_drive_0059_sync', '2011_09_26_drive_0060_sync', '2011_09_26_drive_0084_sync']\n",
      "dirs loaded:\n",
      "['2011_09_26_drive_0005_sync', '2011_09_26_drive_0013_sync', '2011_09_26_drive_0051_sync']\n"
     ]
    }
   ],
   "source": [
    "class DynamicStaticRatio():\n",
    "    def __init__(self, dataset):\n",
    "        self.dataset = dataset\n",
    "        self.cfg = get_cfg()\n",
    "\n",
    "    def get_predictor(self):\n",
    "        # add project-specific config (e.g., TensorMask) here if you're not running a model in detectron2's core library\n",
    "        yaml_cityscapes = \"Cityscapes/mask_rcnn_R_50_FPN.yaml\"\n",
    "        yaml_coco = \"COCO-InstanceSegmentation/mask_rcnn_R_50_FPN_3x.yaml\"\n",
    "        yaml_path = yaml_cityscapes\n",
    "\n",
    "        self.cfg.merge_from_file(model_zoo.get_config_file(yaml_path))\n",
    "        self.cfg.MODEL.ROI_HEADS.SCORE_THRESH_TEST = 0.5  # set threshold for this model\n",
    "        # Find a model from detectron2's model zoo. You can use the https://dl.fbaipublicfiles... url as well\n",
    "        self.cfg.MODEL.WEIGHTS = model_zoo.get_checkpoint_url(yaml_path)\n",
    "        predictor = DefaultPredictor(self.cfg)\n",
    "        return predictor\n",
    "\n",
    "    def viz(self, im, outputs):\n",
    "        # We can use `Visualizer` to draw the predictions on the image.\n",
    "        v = Visualizer(im[:, :, ::-1], MetadataCatalog.get(cfg.DATASETS.TRAIN[0]), scale=1.2)\n",
    "        out = v.draw_instance_predictions(outputs[\"instances\"].to(\"cpu\"))\n",
    "        plt.figure(figsize=(15,7))\n",
    "        plt.imshow(out.get_image()[:, :, ::-1])\n",
    "        plt.show()\n",
    "\n",
    "    def calc_iou_moving(self, outputs: torch.Tensor, labels: torch.Tensor):\n",
    "        SMOOTH = 1e-6\n",
    "        # outputs = outputs.squeeze(1)  # BATCH x 1 x H x W => BATCH x H x W\n",
    "        # labels = labels.squeeze(1)\n",
    "        \n",
    "        intersection = torch.sum(torch.bitwise_and(outputs, labels).float(), (1,2))  # Will be zero if Truth=0 or Prediction=0\n",
    "        union = torch.sum(torch.bitwise_or(outputs, labels).float(), (1,2))          # Will be zero if both are 0\n",
    "        \n",
    "        IoU = (intersection + SMOOTH) / (union + SMOOTH)   # avoid division by zero\n",
    "        IoU = IoU.mean()\n",
    "            \n",
    "        return IoU\n",
    "\n",
    "    def get_ratio(self):\n",
    "        predictor = self.get_predictor()\n",
    "        static = []\n",
    "        dynamic = []\n",
    "        for im, mask in self.dataset:\n",
    "            outputs = predictor(im)\n",
    "            # viz(im, outputs)\n",
    "            # plt.imshow(mask[0].numpy())\n",
    "            pred_masks = outputs[\"instances\"].pred_masks\n",
    "            pred_classes = outputs[\"instances\"].pred_classes\n",
    "\n",
    "            cur_static = 0\n",
    "            cur_dynamic = 0\n",
    "            for i in range(pred_masks.shape[0]):\n",
    "                # check if predicted class == Car\n",
    "                if pred_classes[i] == 2:\n",
    "                    iou = self.calc_iou_moving(pred_masks[i,:,:].cpu().int(), mask.int())\n",
    "                    if iou >= 0.9:\n",
    "                        cur_dynamic += 1\n",
    "                    else:\n",
    "                        cur_static += 1\n",
    "\n",
    "            static.append(cur_static)\n",
    "            dynamic.append(cur_dynamic)\n",
    "        return sum(dynamic)/sum(static)\n",
    "\n",
    "\n",
    "# loading dataset and configs for NN model\n",
    "data_root = \"/storage/remote/atcremers40/motion_seg/datasets/Extended_MOD_Masks/\"\n",
    "\n",
    "# get train and val dataset\n",
    "dataset = ExtendedKittiMod(data_root, test=False)\n",
    "train_size = int(0.8 *  len(dataset))\n",
    "val_size = len(dataset) - train_size\n",
    "train_set, val_set = torch.utils.data.random_split(dataset, [train_size, val_size], generator = torch.Generator().manual_seed(0))\n",
    "\n",
    "# get test dataset\n",
    "test_set = ExtendedKittiMod(data_root, test=True)"
   ]
  },
  {
   "cell_type": "code",
   "execution_count": 7,
   "metadata": {},
   "outputs": [
    {
     "name": "stdout",
     "output_type": "stream",
     "text": [
      "test set ratio (dynamic:static): 0.01055833929849678\n",
      "val set ratio (dynamic:static): 0.007982969664715274\n"
     ]
    }
   ],
   "source": [
    "# calc the dynamic:static ratio\n",
    "ratio_test = DynamicStaticRatio(test_set)\n",
    "print(f\"test set ratio (dynamic:static): {ratio_test.get_ratio()}\")\n",
    "\n",
    "ratio_val = DynamicStaticRatio(val_set)\n",
    "print(f\"val set ratio (dynamic:static): {ratio_val.get_ratio()}\")"
   ]
  }
 ],
 "metadata": {
  "interpreter": {
   "hash": "af1770d9d14a65b8f0c1b0389953de9ae79384eae99c71c06ece055ec6845211"
  },
  "kernelspec": {
   "display_name": "Python 3.7.12 64-bit ('detectron2': conda)",
   "language": "python",
   "name": "python3"
  },
  "language_info": {
   "codemirror_mode": {
    "name": "ipython",
    "version": 3
   },
   "file_extension": ".py",
   "mimetype": "text/x-python",
   "name": "python",
   "nbconvert_exporter": "python",
   "pygments_lexer": "ipython3",
   "version": "3.7.12"
  },
  "orig_nbformat": 4
 },
 "nbformat": 4,
 "nbformat_minor": 2
}
