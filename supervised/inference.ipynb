{
 "cells": [
  {
   "cell_type": "code",
   "execution_count": 1,
   "metadata": {},
   "outputs": [
    {
     "name": "stdout",
     "output_type": "stream",
     "text": [
      "dirs loaded:\n",
      "['2011_09_26_drive_0017_sync']\n"
     ]
    }
   ],
   "source": [
    "%reload_ext autoreload\n",
    "%autoreload 2\n",
    "\n",
    "import torch\n",
    "from torch.utils.data import DataLoader\n",
    "from DatasetClass import KITTI_MOD_FIXED, ExtendedKittiMod\n",
    "from torch.nn import Sigmoid\n",
    "# from torchmetrics import IoU\n",
    "from sklearn.metrics import jaccard_score\n",
    "\n",
    "data_root = \"/storage/remote/atcremers40/motion_seg/datasets/Extended_MOD_Masks/\"\n",
    "dataset = ExtendedKittiMod(data_root, test=False)\n",
    "batch_size = 2\n",
    "loader = DataLoader(dataset=dataset, batch_size=batch_size, shuffle=False)\n",
    "\n",
    "\n",
    "model_path = \"/storage/remote/atcremers40/motion_seg/saved_models/27-12-2021_23-14_bs2/2_0.005_39.pt\"\n",
    "model = torch.load(model_path).to('cpu')\n",
    "model.eval()\n",
    "\n",
    "# needed to map to binary scores\n",
    "sigmoid = Sigmoid()\n",
    "\n",
    "device = torch.device('cuda:0' if torch.cuda.is_available() else 'cpu')\n",
    "# iou = IoU(num_classes=2)"
   ]
  },
  {
   "cell_type": "code",
   "execution_count": 18,
   "metadata": {},
   "outputs": [
    {
     "name": "stdout",
     "output_type": "stream",
     "text": [
      "aIoU: 0.4156779944896698\n"
     ]
    }
   ],
   "source": [
    "with torch.no_grad():\n",
    "    model.eval()\n",
    "    test_iou = []\n",
    "    for idx, (data, targets) in enumerate(loader):\n",
    "        data = data.float()\n",
    "        targets = targets.int()\n",
    "\n",
    "        # forward\n",
    "        scores = model(data)\n",
    "        scores_rounded = torch.round(sigmoid(scores))\n",
    "        # targets = targets.detach().cpu()\n",
    "        # scores_rounded = scores_rounded.detach().cpu()\n",
    "        # iou = jaccard_score(scores_rounded.flatten().numpy(), targets.flatten().numpy())\n",
    "        scores_rounded = scores_rounded.int()\n",
    "        iou = iou_pytorch(scores_rounded, targets)\n",
    "        test_iou.append(iou)\n",
    "        if idx == 10:\n",
    "            break\n",
    "\n",
    "print(f\"aIoU: {sum(test_iou)/len(test_iou)}\")"
   ]
  },
  {
   "cell_type": "code",
   "execution_count": 16,
   "metadata": {},
   "outputs": [],
   "source": []
  }
 ],
 "metadata": {
  "interpreter": {
   "hash": "1defcf583daa72ff2562ab5259c869074eb4282387c5d4b161f752a4f80423e5"
  },
  "kernelspec": {
   "display_name": "Python 3.7.0 64-bit ('week5': conda)",
   "language": "python",
   "name": "python3"
  },
  "language_info": {
   "codemirror_mode": {
    "name": "ipython",
    "version": 3
   },
   "file_extension": ".py",
   "mimetype": "text/x-python",
   "name": "python",
   "nbconvert_exporter": "python",
   "pygments_lexer": "ipython3",
   "version": "3.7.0"
  },
  "orig_nbformat": 4
 },
 "nbformat": 4,
 "nbformat_minor": 2
}
